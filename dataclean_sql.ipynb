{
 "metadata": {
  "language_info": {
   "codemirror_mode": {
    "name": "ipython",
    "version": 3
   },
   "file_extension": ".py",
   "mimetype": "text/x-python",
   "name": "python",
   "nbconvert_exporter": "python",
   "pygments_lexer": "ipython3",
   "version": "3.8.3"
  },
  "orig_nbformat": 2,
  "kernelspec": {
   "name": "python383jvsc74a57bd05f23c331dcc0e959a18d97d72b32723b8e8fefc4a029dc171226f15b89161c30",
   "display_name": "Python 3.8.3 32-bit (conda)"
  }
 },
 "nbformat": 4,
 "nbformat_minor": 2,
 "cells": [
  {
   "cell_type": "code",
   "execution_count": 1,
   "metadata": {},
   "outputs": [],
   "source": [
    "import requests\n",
    "from bs4 import BeautifulSoup\n",
    "from datetime import date\n",
    "import pandas as pd\n",
    "from selenium import webdriver\n",
    "import time\n",
    "import sqlite3 as db"
   ]
  },
  {
   "source": [
    "# Dataframe 1"
   ],
   "cell_type": "markdown",
   "metadata": {}
  },
  {
   "cell_type": "code",
   "execution_count": 2,
   "metadata": {},
   "outputs": [],
   "source": [
    "# New Dataframe with Restaurants\n",
    "\n",
    "df = pd.read_csv('opendatabcn_restaurants.csv')"
   ]
  },
  {
   "cell_type": "code",
   "execution_count": 3,
   "metadata": {},
   "outputs": [],
   "source": [
    "# Drop unnecessary columns\n",
    "\n",
    "df.drop(columns=['institution_id', 'created','modified', 'addresses_roadtype_id', 'addresses_roadtype_name', 'addresses_road_id',\n",
    "        'addresses_end_street_number', 'addresses_main_address','addresses_zip_code','addresses_type', 'secondary_filters_name', 'values_id','values_attribute_id', 'addresses_neighborhood_id', 'addresses_district_id', 'values_category', 'values_attribute_name','values_attribute_type', 'values_value', 'values_outstanding','values_description','secondary_filters_id', 'secondary_filters_fullpath','secondary_filters_tree', 'secondary_filters_asia_id','geo_epgs_25831_x', 'geo_epgs_25831_y'], inplace=True)"
   ]
  },
  {
   "cell_type": "code",
   "execution_count": 4,
   "metadata": {},
   "outputs": [],
   "source": [
    "# Reset index to drop duplicates\n",
    "\n",
    "df.set_index('id', inplace = True)\n",
    "df.drop_duplicates(inplace=True)"
   ]
  },
  {
   "cell_type": "code",
   "execution_count": 5,
   "metadata": {},
   "outputs": [],
   "source": [
    "# Clean column address\n",
    "\n",
    "df['addresses_road_name'] = df['addresses_road_name'].apply(lambda x: x.upper())\n",
    "df.loc[df[df['name'] == 'Xiringuito Vai Moana'].index, 'geo_epgs_4326_x'] == 41.394649\n",
    "df.loc[df[df['name'] == 'Xiringuito Vai Moana'].index, 'geo_epgs_4326_y'] == 2.206541\n",
    "df['addresses_road_name'] = df['addresses_road_name'].replace('À|Á', 'A', regex=True)\n",
    "df['addresses_road_name'] = df['addresses_road_name'].replace('É|È', 'E', regex=True)\n",
    "df['addresses_road_name'] = df['addresses_road_name'].replace('Í|Ì', 'I', regex=True)\n",
    "df['addresses_road_name'] = df['addresses_road_name'].replace('Ò|Ó', 'O', regex=True)\n",
    "df['addresses_road_name'] = df['addresses_road_name'].replace('Ú|Ù', 'U', regex=True)\n",
    "df['addresses_road_name'] = df['addresses_road_name'].replace(\"D'\", '', regex=True)\n",
    "df['addresses_road_name'] = df['addresses_road_name'].replace(\"L'\", '', regex=True)\n",
    "df['addresses_road_name'] = df['addresses_road_name'].replace('^AV\\sAV\\s', 'AV. ', regex=True)\n",
    "df['addresses_road_name'] = df['addresses_road_name'].replace('^AV\\s', 'AV. ', regex=True)\n",
    "df['addresses_road_name'] = df['addresses_road_name'].replace('^C\\s', 'C. ', regex=True)\n",
    "df['addresses_road_name'] = df['addresses_road_name'].replace('^CRTA', 'CRTA.', regex=True)\n",
    "df['addresses_road_name'] = df['addresses_road_name'].replace('^G.V.\\s', 'G.V.. ', regex=True)\n",
    "df['addresses_road_name'] = df['addresses_road_name'].replace('^PG\\s', 'PG. ', regex=True)\n",
    "df['addresses_road_name'] = df['addresses_road_name'].replace('^PL\\s', 'PL. ', regex=True)\n",
    "df['addresses_road_name'] = df['addresses_road_name'].replace('^PLA\\s', 'PLA. ', regex=True)\n",
    "df['addresses_road_name'] = df['addresses_road_name'].replace('^PLTA\\s', 'PLTA. ', regex=True)\n",
    "df['addresses_road_name'] = df['addresses_road_name'].replace('^PTGE\\s', 'PTGE. ', regex=True)\n",
    "df['addresses_road_name'] = df['addresses_road_name'].replace('^PTJA\\s', 'PTJA. ', regex=True)\n",
    "df['addresses_road_name'] = df['addresses_road_name'].replace('^RBLA\\s', 'RBLA. ', regex=True)\n",
    "df['addresses_road_name'] = df['addresses_road_name'].replace('^RDA\\s', 'RDA. ', regex=True)\n",
    "df['addresses_road_name'] = df['addresses_road_name'].replace('^RIER\\s', 'RIER. ', regex=True)\n",
    "df['addresses_road_name'] = df['addresses_road_name'].replace('^TRAV\\s', 'TRAV. ', regex=True)\n",
    "df['addresses_road_name'] = df['addresses_road_name'].replace('^VIA\\s', 'VIA. ', regex=True)\n",
    "df['addresses_road_name'] = df['addresses_road_name'].replace('^ARIBAU', 'C. ARIBAU ', regex=True)\n",
    "df['addresses_road_name'] = df['addresses_road_name'].replace('^JOAN', 'C. JOAN', regex=True)\n",
    "df['addresses_road_name'] = df['addresses_road_name'].replace('^LOPE', 'C. LOPE', regex=True)\n",
    "df['addresses_road_name'] = df['addresses_road_name'].replace('^MALLORCA', 'C. MALLORCA', regex=True)\n",
    "df['addresses_road_name'] = df['addresses_road_name'].replace('^MARIA', 'C. MARIA', regex=True)\n",
    "df['addresses_road_name'] = df['addresses_road_name'].replace('^MARINA', 'C. MARINA', regex=True)\n",
    "df['addresses_road_name'] = df['addresses_road_name'].replace('^NAPOLS', 'C. NAPOLS', regex=True)\n",
    "df['addresses_road_name'] = df['addresses_road_name'].replace('^PARIS', 'C. PARIS', regex=True)\n",
    "df['addresses_road_name'] = df['addresses_road_name'].replace('^PUJADES', 'C. PUJADES', regex=True)\n",
    "df['addresses_road_name'] = df['addresses_road_name'].replace('^VALLESPIR', 'C. VALLESPIR', regex=True)\n",
    "df['addresses_road_name'] = df['addresses_road_name'].replace('^C. LA RAMBLA', 'C. RAMBLA', regex=True)\n",
    "df['addresses_road_name'] = df['addresses_road_name'].replace('^PG. MARITIM BARCELONETA', 'PG. MARITIM DE LA BARCELONETA', regex=True)\n",
    "df['addresses_road_name'] = df['addresses_road_name'].replace('^CANTABRIA', 'C. CANTABRIA', regex=True)\n",
    "df['addresses_road_name'] = df['addresses_road_name'].replace('^CASTILLEJOS', 'C. CASTILLEJOS', regex=True)\n",
    "df['addresses_road_name'] = df['addresses_road_name'].replace('^ENTENÇA', 'C. ENTENÇA', regex=True)\n",
    "df['addresses_road_name'] = df['addresses_road_name'].replace('^GARCILASO', 'C. GARCILASO', regex=True)\n",
    "df['addresses_road_name'] = df['addresses_road_name'].replace('AV. LITORAL, 9994', 'PARC DEL PORT OLIMPIC S/N', regex=True)\n",
    "df['addresses_road_name'] = df['addresses_road_name'].replace('CTRA', 'CTRA.', regex=True)\n",
    "df['addresses_neighborhood_name'] = df['addresses_neighborhood_name'].replace(\"la Dreta de Eixample\", \"la Dreta de l'Eixample\", regex=True)"
   ]
  },
  {
   "cell_type": "code",
   "execution_count": 6,
   "metadata": {},
   "outputs": [],
   "source": [
    "# Clean and cast column street number\n",
    "\n",
    "df['addresses_start_street_number'].fillna('0', inplace=True)\n",
    "df['addresses_start_street_number'] = df['addresses_start_street_number'].astype('int').astype('str')\n",
    "df['addresses_start_street_number'].replace('0','S/N', inplace=True)"
   ]
  },
  {
   "cell_type": "code",
   "execution_count": 7,
   "metadata": {},
   "outputs": [],
   "source": [
    "# Create a new column that includes address and street number\n",
    "\n",
    "df['emplacement'] = df['addresses_road_name'].apply(lambda x: x + ', ') + df['addresses_start_street_number'].apply(lambda x: x)"
   ]
  },
  {
   "cell_type": "code",
   "execution_count": 8,
   "metadata": {},
   "outputs": [],
   "source": [
    "df['emplacement'] = df['emplacement'].replace('CRO SANT BONAVENTURA, 5', 'C. SANT BONAVENTURA, 7', regex=True)\n",
    "df['emplacement'] = df['emplacement'].replace('PG. J BORBO COMTE BARCELONA, 46', 'PG. JOAN BORBO COMTE BARCELONA, 46', regex=True)\n",
    "df['emplacement'] = df['emplacement'].replace('PTJA. MAR BELLA, 100', 'PG. MARITIM DE LA MAR BELLA, 100', regex=True)\n",
    "df['emplacement'] = df['emplacement'].replace('SANTALO, 8', 'C. SANTALO, 8', regex=True)\n",
    "df['emplacement'] = df['emplacement'].replace('TAQUIGRAF SERRA, 24', 'C. TAQUIGRAF SERRA, 24', regex=True)\n",
    "df['emplacement'] = df['emplacement'].replace('TORRENT DE LES FLORS, 101', 'C. TORRENT DE LES FLORS, 101', regex=True)"
   ]
  },
  {
   "cell_type": "code",
   "execution_count": 9,
   "metadata": {},
   "outputs": [],
   "source": [
    "# Restaurants with no name (1)\n",
    "\n",
    "lst = []\n",
    "for i in df[(df['name'] == 'Restaurant')|(df['name'] == 'Bar Restaurant')]['emplacement']:\n",
    "    lst.append(i)\n",
    "df.loc[df[df['emplacement'] == lst[0]].index, 'name'] = 'Restaurant Círculo Ecuestre'\n",
    "df.loc[df[df['emplacement'] == lst[1]].index, 'name'] = 'Restaurant Col·legi Arquitectes Barcelona'\n",
    "df.loc[df[df['emplacement'] == lst[2]].index, 'name'] = 'Restaurant Casa Regional de Soria'\n",
    "df.loc[df[df['emplacement'] == lst[3]].index, 'name'] = 'Bar Restaurant Club Tennis Vall Parc'\n",
    "df.loc[df[df['emplacement'] == lst[4]].index, 'name'] = 'Bar restaurant Centre Aragonès Barcelona'\n",
    "df.loc[df[df['emplacement'] == lst[5]].index, 'name'] = 'Pastisseria Farga *Avinguda Diagonal'\n",
    "df.loc[df[df['emplacement'] == lst[6]].index, 'name'] = 'Pastisseria Baixas *Muntaner'\n",
    "df.loc[df[df['emplacement'] == lst[7]].index, 'name'] = 'Pastisseria Farga *G. V. de les Corts Catalanes'\n",
    "df.loc[df[df['emplacement'] == lst[8]].index, 'name'] = 'Bar Restaurant Pistes Municipals de Tennis Montjuïc'\n",
    "df.loc[df[df['emplacement'] == lst[9]].index, 'name'] = 'Restaurant Bowling Pedralbes'\n",
    "df.loc[df[df['emplacement'] == lst[10]].index, 'name'] = 'Restaurant Teatre Nacional de Cataluña'\n",
    "df.loc[df[df['emplacement'] == lst[11]].index, 'name'] = 'Restaurant Palau Moja'\n",
    "df.loc[df[df['emplacement'] == 'RBLA. RAVAL, 43'].index, 'name'] = 'RBLA. RAVAL, 45'\n"
   ]
  },
  {
   "cell_type": "code",
   "execution_count": 10,
   "metadata": {},
   "outputs": [],
   "source": [
    "# Truncate GPS measures \n",
    "\n",
    "df['geo_epgs_4326_x'] = df['geo_epgs_4326_x'].apply(lambda x: float(str(x)[0:8]))\n",
    "df['geo_epgs_4326_y'] = df['geo_epgs_4326_y'].apply(lambda x: float(str(x)[0:7]))"
   ]
  },
  {
   "cell_type": "code",
   "execution_count": 11,
   "metadata": {},
   "outputs": [],
   "source": [
    "# Drop unnecessary columns\n",
    "\n",
    "df.drop(columns=['addresses_road_name', 'addresses_start_street_number','institution_name'], inplace=True)"
   ]
  },
  {
   "cell_type": "code",
   "execution_count": 12,
   "metadata": {},
   "outputs": [],
   "source": [
    "# Reset index to drop duplicates\n",
    "\n",
    "df.drop_duplicates(subset=['name', 'emplacement'], inplace=True)"
   ]
  },
  {
   "cell_type": "code",
   "execution_count": 13,
   "metadata": {},
   "outputs": [],
   "source": [
    "# Sort columns\n",
    "\n",
    "df = df.reindex(columns=['name','emplacement' ,'addresses_neighborhood_name', 'addresses_district_name', 'geo_epgs_4326_x',\n",
    "       'geo_epgs_4326_y'])\n",
    "\n",
    "df = df.sort_values('emplacement')\n",
    "\n",
    "df.columns = [i.upper() for i in df.columns]"
   ]
  },
  {
   "cell_type": "code",
   "execution_count": 14,
   "metadata": {},
   "outputs": [],
   "source": [
    "# Create a table in a sqlite3 db\n",
    "\n",
    "db_url='restaurantes_terrazas_bcn.db'\n",
    "conn = db.connect(db_url)\n",
    "df.to_sql(name = 'Restaurants', con =conn)"
   ]
  },
  {
   "source": [
    "# Dataframe 2"
   ],
   "cell_type": "markdown",
   "metadata": {}
  },
  {
   "cell_type": "code",
   "execution_count": 15,
   "metadata": {},
   "outputs": [],
   "source": [
    "# New Dataframe with Terrasses\n",
    "\n",
    "df2 = pd.read_csv('2020_1s_data_set_opendata_terrasses.csv')"
   ]
  },
  {
   "cell_type": "code",
   "execution_count": 16,
   "metadata": {},
   "outputs": [],
   "source": [
    "# Drop unnecessary columns\n",
    "\n",
    "df2.drop(columns=['DATA_EXPLO', 'CODI_DISTRICTE', 'CODI_BARRI', 'OCUPACIO', 'CADIRES','ORDENACIO','VIGENCIA','X_ETRS89','Y_ETRS89'], inplace=True)"
   ]
  },
  {
   "cell_type": "code",
   "execution_count": 17,
   "metadata": {},
   "outputs": [],
   "source": [
    "# Clean column emplacament\n",
    "\n",
    "df2['EMPLACAMENT'] = df2['EMPLACAMENT'].apply(lambda x: x.split('-')[0])\n",
    "df2['EMPLACAMENT'] = df2['EMPLACAMENT'].replace(\"D'\", '', regex=True)\n",
    "df2['EMPLACAMENT'] = df2['EMPLACAMENT'].replace(\"L'\", '', regex=True)"
   ]
  },
  {
   "cell_type": "code",
   "execution_count": 18,
   "metadata": {},
   "outputs": [],
   "source": [
    "# Truncate GPS measures \n",
    "\n",
    "df2['LATITUD'] = df2['LATITUD'].apply(lambda x: float(str(x)[0:8]))\n",
    "df2['LONGITUD'] = df2['LONGITUD'].apply(lambda x: float(str(x)[0:7]))"
   ]
  },
  {
   "cell_type": "code",
   "execution_count": 19,
   "metadata": {},
   "outputs": [],
   "source": [
    "# Create a table in a sqlite3 db\n",
    "\n",
    "df2.to_sql(name = 'Terrasses', con =conn)"
   ]
  },
  {
   "source": [
    "# Dataframe 3"
   ],
   "cell_type": "markdown",
   "metadata": {}
  },
  {
   "cell_type": "code",
   "execution_count": 20,
   "metadata": {},
   "outputs": [],
   "source": [
    "# New Dataframe with Coca Cola customers activity\n",
    "\n",
    "df3 = pd.read_csv('CC_outlets_BCN.csv')"
   ]
  },
  {
   "cell_type": "code",
   "execution_count": 21,
   "metadata": {},
   "outputs": [],
   "source": [
    "# Create a new column that includes address and street number\n",
    "\n",
    "df3['emplacement'] = df3['St. type'].apply(lambda x: x + ' ') + df3['Street'].apply(lambda x: x + ', ') + df3['Number'].apply(lambda x: x)"
   ]
  },
  {
   "cell_type": "code",
   "execution_count": 22,
   "metadata": {},
   "outputs": [],
   "source": [
    "# Clean column address\n",
    "\n",
    "df3['emplacement'] = df3['emplacement'].replace('^AV\\s', 'AV. ', regex=True)\n",
    "df3['emplacement'] = df3['emplacement'].replace('^CAM\\s', 'CAMI ', regex=True)\n",
    "df3['emplacement'] = df3['emplacement'].replace('^CR\\s|^CL\\s|^BXD\\s|^BRD\\s|^GRP\\s', 'C. ', regex=True)\n",
    "df3['emplacement'] = df3['emplacement'].replace('^CRT\\s', 'CTRA. ', regex=True)\n",
    "df3['emplacement'] = df3['emplacement'].replace('^LL\\s', '', regex=True)\n",
    "df3['emplacement'] = df3['emplacement'].replace('^PS\\s', 'PG. ', regex=True)\n",
    "df3['emplacement'] = df3['emplacement'].replace('^PZ\\s', 'PL. ', regex=True)\n",
    "df3['emplacement'] = df3['emplacement'].replace('^PLA\\s', 'PLA. ', regex=True)\n",
    "df3['emplacement'] = df3['emplacement'].replace('^PLTA\\s', 'PLTA. ', regex=True)\n",
    "df3['emplacement'] = df3['emplacement'].replace('^PTG\\s', 'PTGE. ', regex=True)\n",
    "df3['emplacement'] = df3['emplacement'].replace('^PTJA\\s', 'PTJA. ', regex=True)\n",
    "df3['emplacement'] = df3['emplacement'].replace('^RB\\s', 'RBLA. ', regex=True)\n",
    "df3['emplacement'] = df3['emplacement'].replace('^RDA\\s', 'RDA. ', regex=True)\n",
    "df3['emplacement'] = df3['emplacement'].replace('^RIE\\s', 'RIER. ', regex=True)\n",
    "df3['emplacement'] = df3['emplacement'].replace('^VIA\\s', 'VIA. ', regex=True)\n",
    "df3['emplacement'] = df3['emplacement'].replace('^C. GRAN VIA DE LES', 'G.V..', regex=True)\n",
    "df3['emplacement'] = df3['emplacement'].replace('^C. GRAN VIA,', 'G.V.. CORTS CATALANES,', regex=True)\n",
    "df3['emplacement'] = df3['emplacement'].replace('^C. GRAN VIA', 'G.V..', regex=True)"
   ]
  },
  {
   "cell_type": "code",
   "execution_count": 23,
   "metadata": {},
   "outputs": [],
   "source": [
    "# Drop unnecessary columns\n",
    "\n",
    "df3.drop(columns=['St. type', 'Street','Number', 'Postal code', 'Municipality', 'Date'], inplace=True)"
   ]
  },
  {
   "cell_type": "code",
   "execution_count": 24,
   "metadata": {},
   "outputs": [],
   "source": [
    "# Drop duplicates\n",
    "\n",
    "df3.drop_duplicates(subset=['Outlet', 'emplacement'], inplace=True)"
   ]
  },
  {
   "cell_type": "code",
   "execution_count": 25,
   "metadata": {},
   "outputs": [],
   "source": [
    "# Normalise situation\n",
    "\n",
    "df3['Situation']=df3['Situation'].replace('Abierto con normalidad|Abierto exclusivamente para take away/delivery', 'Abierto', regex=True)\n",
    "df3['Situation']=df3['Situation'].replace('Sin informaci�n|NS/NC', 'Sin información', regex=True)\n",
    "df3['Situation']=df3['Situation'].replace('Cierre definitivo por Covid|Cerrado temporalmente por COVID|Cerrado estacional', 'Cerrado', regex=True)"
   ]
  },
  {
   "cell_type": "code",
   "execution_count": 26,
   "metadata": {},
   "outputs": [],
   "source": [
    "# Sort columns\n",
    "\n",
    "df3 = df3.sort_values('emplacement')\n",
    "df3.columns = [i.upper() for i in df3.columns]"
   ]
  },
  {
   "cell_type": "code",
   "execution_count": 27,
   "metadata": {},
   "outputs": [],
   "source": [
    "# Reset Index\n",
    "\n",
    "df3.reset_index(drop=True, inplace=True)"
   ]
  },
  {
   "cell_type": "code",
   "execution_count": 28,
   "metadata": {},
   "outputs": [],
   "source": [
    "# Create a table in a sqlite3 db\n",
    "\n",
    "df3.to_sql(name = 'Activity', con =conn)"
   ]
  },
  {
   "source": [
    "# Dataframe 4"
   ],
   "cell_type": "markdown",
   "metadata": {}
  },
  {
   "cell_type": "code",
   "execution_count": 37,
   "metadata": {},
   "outputs": [],
   "source": [
    "df4 = pd.read_csv('the_fork.csv')"
   ]
  },
  {
   "cell_type": "code",
   "execution_count": 38,
   "metadata": {},
   "outputs": [],
   "source": [
    "df4.drop_duplicates(inplace=True)"
   ]
  },
  {
   "cell_type": "code",
   "execution_count": 39,
   "metadata": {},
   "outputs": [
    {
     "output_type": "execute_result",
     "data": {
      "text/plain": [
       "                                nombre         cocina  \\\n",
       "1287  El Templo del Placer - Barcelona   MEDITERRÁNEO   \n",
       "956             Aula Restaurant - CETT        CATALÁN   \n",
       "1848                           Baribau   MEDITERRÁNEO   \n",
       "1537                      Federal Café      AMERICANO   \n",
       "1630                           Bar Mut        ESPAÑOL   \n",
       "322                         Txalaparta          VASCO   \n",
       "1971                 Asador de Galicia         ASADOR   \n",
       "1837                    Típic i Català          AUTOR   \n",
       "1688                           Vivanda        ESPAÑOL   \n",
       "1572                       Bar Del Pla        ESPAÑOL   \n",
       "1552                   La Granota & CO        ESPAÑOL   \n",
       "1571                     Velodromo Bar        ESPAÑOL   \n",
       "1470                    Sabor Jiang 匠味          CHINO   \n",
       "1580                    El Filete Ruso        ESPAÑOL   \n",
       "1689                        Can Vallés        ESPAÑOL   \n",
       "1902              Miu Taverna Japonesa        JAPONÉS   \n",
       "1502                           Magnate   MEDITERRÁNEO   \n",
       "1587           L'Osteria Sutta e Supra       ITALIANO   \n",
       "2094                           Come In   MEDITERRÁNEO   \n",
       "1609                         IGUAZU II      ARGENTINO   \n",
       "458                            Kuletos   MEDITERRÁNEO   \n",
       "923                   La Taula Bohemia   MEDITERRÁNEO   \n",
       "621                         La Cococha        MERCADO   \n",
       "1539                          Monvínic        ESPAÑOL   \n",
       "222                         El 9 Porró   MEDITERRÁNEO   \n",
       "895       El Chiringuito de Casa Bonay  INTERNACIONAL   \n",
       "1461                           La Poma        Welcome   \n",
       "648                         Casa Patry   MEDITERRÁNEO   \n",
       "888                     Pau Claris 190   MEDITERRÁNEO   \n",
       "1106                             Banna      TAILANDÉS   \n",
       "2186                             Mezzé      AMERICANO   \n",
       "1540                          WAGOKORO        JAPONÉS   \n",
       "1944                           Igueldo         ASADOR   \n",
       "1536                 Neri - Hotel Neri        ESPAÑOL   \n",
       "2001         La Bodegueta de les Corts        ESPAÑOL   \n",
       "\n",
       "                                              direccion  rating  \\\n",
       "1287             Avenida Diagonal 203, 08018, Barcelona     0.0   \n",
       "956   Avenida de Can Marcet, 36 08035 Barcelona, 080...     9.8   \n",
       "1848                    C/ Aribau 131, 08036, Barcelona     0.0   \n",
       "1537             C/ Parlament 39 8015, 08015, Barcelona     0.0   \n",
       "1630          C/ Pau Claris, 192 8010, 08037, Barcelona     0.0   \n",
       "322                C/ Sants 146 - 152, 08028, Barcelona     9.0   \n",
       "1971                 C/ Sepúlveda 187, 08011, Barcelona     0.0   \n",
       "1837           C/ Sicília 217, baixos, 08013, Barcelona     0.0   \n",
       "1688      C/Major de Sarria, 134 8017, 08017, Barcelona     0.0   \n",
       "1572               C/Montcada, 2 8003, 08003, Barcelona     0.0   \n",
       "1552  CALLE PADILLA 250 LOCAL LA GRANOTA, 08013, Bar...     0.0   \n",
       "1571         Calle Muntaner, 213 8036, 08036, Barcelona     0.0   \n",
       "1470       Carrer consell de cent 448, 08013, Barcelona     0.0   \n",
       "1580  Carrer d' Enric Granados, 95 8008, 08008, Barc...     0.0   \n",
       "1689          Carrer d'Arago, 95 8015, 08015, Barcelona     0.0   \n",
       "1902  Carrer d'Enric Granados, 23 08007 Barcelona, 0...     0.0   \n",
       "1502           Carrer de Casanova 193, 08036, Barcelona     0.0   \n",
       "1587           Carrer de Casanova 195, 08036, Barcelona     9.1   \n",
       "2094  Carrer de València, 334 08009 Barcelona, 08009...     0.0   \n",
       "1609   Carrer del Consell de Cent 313, 08007, Barcelona     0.0   \n",
       "458      Carrer del Dr. Trueta nº 220, 08005, Barcelona     9.1   \n",
       "923   Carrer violant de Hungría reina de Aragón 167,...     9.2   \n",
       "621                      Casanova 157, 08036, Barcelona     9.3   \n",
       "1539  Diputacio, 249, 08007 Barcelona, España 8007, ...     0.0   \n",
       "222                    Dr. Trueta 225, 08005, Barcelona     8.5   \n",
       "895   Gran Via de les Corts Catalanes 700, 08010, Ba...     0.0   \n",
       "1461                    La Rambla 117, 08002, Barcelona     0.0   \n",
       "648   MARE DE DEU DE PORT 305 LOCAL 11 BARCELONA, 08...     0.0   \n",
       "888                    Pau Claris 190, 08037, Barcelona     9.5   \n",
       "1106  Plaça Revolucio de Setembre 1868, 15, 08012, B...     9.2   \n",
       "2186  Plaça del rom cremat 08027 Barcelona, 08027, B...     0.0   \n",
       "1540                    Regas 35 8006, 08006, Barcelona     0.0   \n",
       "1944                      Rosello 186, 08008, Barcelona     0.0   \n",
       "1536               Sant Sever 5 08002, 08002, Barcelona     0.0   \n",
       "2001      Travessera de les Corts 154, 08028, Barcelona     0.0   \n",
       "\n",
       "      num_opiniones precio  \n",
       "1287              0     45  \n",
       "956              77     26  \n",
       "1848              0     25  \n",
       "1537              0     21  \n",
       "1630              0     20  \n",
       "322             219     27  \n",
       "1971              0     25  \n",
       "1837              0     17  \n",
       "1688              0     24  \n",
       "1572              0     30  \n",
       "1552              0     25  \n",
       "1571              0     25  \n",
       "1470              0     15  \n",
       "1580              0     25  \n",
       "1689              0     16  \n",
       "1902              0     17  \n",
       "1502              0     30  \n",
       "1587            377     50  \n",
       "2094              0     20  \n",
       "1609              0     15  \n",
       "458             181     24  \n",
       "923             536     25  \n",
       "621              12     20  \n",
       "1539              0     30  \n",
       "222              40     15  \n",
       "895               0     20  \n",
       "1461              0     19  \n",
       "648               0     22  \n",
       "888             854     40  \n",
       "1106            523     20  \n",
       "2186              0     10  \n",
       "1540              0     17  \n",
       "1944              0     40  \n",
       "1536              0     30  \n",
       "2001              0     20  "
      ],
      "text/html": "<div>\n<style scoped>\n    .dataframe tbody tr th:only-of-type {\n        vertical-align: middle;\n    }\n\n    .dataframe tbody tr th {\n        vertical-align: top;\n    }\n\n    .dataframe thead th {\n        text-align: right;\n    }\n</style>\n<table border=\"1\" class=\"dataframe\">\n  <thead>\n    <tr style=\"text-align: right;\">\n      <th></th>\n      <th>nombre</th>\n      <th>cocina</th>\n      <th>direccion</th>\n      <th>rating</th>\n      <th>num_opiniones</th>\n      <th>precio</th>\n    </tr>\n  </thead>\n  <tbody>\n    <tr>\n      <th>1287</th>\n      <td>El Templo del Placer - Barcelona</td>\n      <td>MEDITERRÁNEO</td>\n      <td>Avenida Diagonal 203, 08018, Barcelona</td>\n      <td>0.0</td>\n      <td>0</td>\n      <td>45</td>\n    </tr>\n    <tr>\n      <th>956</th>\n      <td>Aula Restaurant - CETT</td>\n      <td>CATALÁN</td>\n      <td>Avenida de Can Marcet, 36 08035 Barcelona, 080...</td>\n      <td>9.8</td>\n      <td>77</td>\n      <td>26</td>\n    </tr>\n    <tr>\n      <th>1848</th>\n      <td>Baribau</td>\n      <td>MEDITERRÁNEO</td>\n      <td>C/ Aribau 131, 08036, Barcelona</td>\n      <td>0.0</td>\n      <td>0</td>\n      <td>25</td>\n    </tr>\n    <tr>\n      <th>1537</th>\n      <td>Federal Café</td>\n      <td>AMERICANO</td>\n      <td>C/ Parlament 39 8015, 08015, Barcelona</td>\n      <td>0.0</td>\n      <td>0</td>\n      <td>21</td>\n    </tr>\n    <tr>\n      <th>1630</th>\n      <td>Bar Mut</td>\n      <td>ESPAÑOL</td>\n      <td>C/ Pau Claris, 192 8010, 08037, Barcelona</td>\n      <td>0.0</td>\n      <td>0</td>\n      <td>20</td>\n    </tr>\n    <tr>\n      <th>322</th>\n      <td>Txalaparta</td>\n      <td>VASCO</td>\n      <td>C/ Sants 146 - 152, 08028, Barcelona</td>\n      <td>9.0</td>\n      <td>219</td>\n      <td>27</td>\n    </tr>\n    <tr>\n      <th>1971</th>\n      <td>Asador de Galicia</td>\n      <td>ASADOR</td>\n      <td>C/ Sepúlveda 187, 08011, Barcelona</td>\n      <td>0.0</td>\n      <td>0</td>\n      <td>25</td>\n    </tr>\n    <tr>\n      <th>1837</th>\n      <td>Típic i Català</td>\n      <td>AUTOR</td>\n      <td>C/ Sicília 217, baixos, 08013, Barcelona</td>\n      <td>0.0</td>\n      <td>0</td>\n      <td>17</td>\n    </tr>\n    <tr>\n      <th>1688</th>\n      <td>Vivanda</td>\n      <td>ESPAÑOL</td>\n      <td>C/Major de Sarria, 134 8017, 08017, Barcelona</td>\n      <td>0.0</td>\n      <td>0</td>\n      <td>24</td>\n    </tr>\n    <tr>\n      <th>1572</th>\n      <td>Bar Del Pla</td>\n      <td>ESPAÑOL</td>\n      <td>C/Montcada, 2 8003, 08003, Barcelona</td>\n      <td>0.0</td>\n      <td>0</td>\n      <td>30</td>\n    </tr>\n    <tr>\n      <th>1552</th>\n      <td>La Granota &amp; CO</td>\n      <td>ESPAÑOL</td>\n      <td>CALLE PADILLA 250 LOCAL LA GRANOTA, 08013, Bar...</td>\n      <td>0.0</td>\n      <td>0</td>\n      <td>25</td>\n    </tr>\n    <tr>\n      <th>1571</th>\n      <td>Velodromo Bar</td>\n      <td>ESPAÑOL</td>\n      <td>Calle Muntaner, 213 8036, 08036, Barcelona</td>\n      <td>0.0</td>\n      <td>0</td>\n      <td>25</td>\n    </tr>\n    <tr>\n      <th>1470</th>\n      <td>Sabor Jiang 匠味</td>\n      <td>CHINO</td>\n      <td>Carrer consell de cent 448, 08013, Barcelona</td>\n      <td>0.0</td>\n      <td>0</td>\n      <td>15</td>\n    </tr>\n    <tr>\n      <th>1580</th>\n      <td>El Filete Ruso</td>\n      <td>ESPAÑOL</td>\n      <td>Carrer d' Enric Granados, 95 8008, 08008, Barc...</td>\n      <td>0.0</td>\n      <td>0</td>\n      <td>25</td>\n    </tr>\n    <tr>\n      <th>1689</th>\n      <td>Can Vallés</td>\n      <td>ESPAÑOL</td>\n      <td>Carrer d'Arago, 95 8015, 08015, Barcelona</td>\n      <td>0.0</td>\n      <td>0</td>\n      <td>16</td>\n    </tr>\n    <tr>\n      <th>1902</th>\n      <td>Miu Taverna Japonesa</td>\n      <td>JAPONÉS</td>\n      <td>Carrer d'Enric Granados, 23 08007 Barcelona, 0...</td>\n      <td>0.0</td>\n      <td>0</td>\n      <td>17</td>\n    </tr>\n    <tr>\n      <th>1502</th>\n      <td>Magnate</td>\n      <td>MEDITERRÁNEO</td>\n      <td>Carrer de Casanova 193, 08036, Barcelona</td>\n      <td>0.0</td>\n      <td>0</td>\n      <td>30</td>\n    </tr>\n    <tr>\n      <th>1587</th>\n      <td>L'Osteria Sutta e Supra</td>\n      <td>ITALIANO</td>\n      <td>Carrer de Casanova 195, 08036, Barcelona</td>\n      <td>9.1</td>\n      <td>377</td>\n      <td>50</td>\n    </tr>\n    <tr>\n      <th>2094</th>\n      <td>Come In</td>\n      <td>MEDITERRÁNEO</td>\n      <td>Carrer de València, 334 08009 Barcelona, 08009...</td>\n      <td>0.0</td>\n      <td>0</td>\n      <td>20</td>\n    </tr>\n    <tr>\n      <th>1609</th>\n      <td>IGUAZU II</td>\n      <td>ARGENTINO</td>\n      <td>Carrer del Consell de Cent 313, 08007, Barcelona</td>\n      <td>0.0</td>\n      <td>0</td>\n      <td>15</td>\n    </tr>\n    <tr>\n      <th>458</th>\n      <td>Kuletos</td>\n      <td>MEDITERRÁNEO</td>\n      <td>Carrer del Dr. Trueta nº 220, 08005, Barcelona</td>\n      <td>9.1</td>\n      <td>181</td>\n      <td>24</td>\n    </tr>\n    <tr>\n      <th>923</th>\n      <td>La Taula Bohemia</td>\n      <td>MEDITERRÁNEO</td>\n      <td>Carrer violant de Hungría reina de Aragón 167,...</td>\n      <td>9.2</td>\n      <td>536</td>\n      <td>25</td>\n    </tr>\n    <tr>\n      <th>621</th>\n      <td>La Cococha</td>\n      <td>MERCADO</td>\n      <td>Casanova 157, 08036, Barcelona</td>\n      <td>9.3</td>\n      <td>12</td>\n      <td>20</td>\n    </tr>\n    <tr>\n      <th>1539</th>\n      <td>Monvínic</td>\n      <td>ESPAÑOL</td>\n      <td>Diputacio, 249, 08007 Barcelona, España 8007, ...</td>\n      <td>0.0</td>\n      <td>0</td>\n      <td>30</td>\n    </tr>\n    <tr>\n      <th>222</th>\n      <td>El 9 Porró</td>\n      <td>MEDITERRÁNEO</td>\n      <td>Dr. Trueta 225, 08005, Barcelona</td>\n      <td>8.5</td>\n      <td>40</td>\n      <td>15</td>\n    </tr>\n    <tr>\n      <th>895</th>\n      <td>El Chiringuito de Casa Bonay</td>\n      <td>INTERNACIONAL</td>\n      <td>Gran Via de les Corts Catalanes 700, 08010, Ba...</td>\n      <td>0.0</td>\n      <td>0</td>\n      <td>20</td>\n    </tr>\n    <tr>\n      <th>1461</th>\n      <td>La Poma</td>\n      <td>Welcome</td>\n      <td>La Rambla 117, 08002, Barcelona</td>\n      <td>0.0</td>\n      <td>0</td>\n      <td>19</td>\n    </tr>\n    <tr>\n      <th>648</th>\n      <td>Casa Patry</td>\n      <td>MEDITERRÁNEO</td>\n      <td>MARE DE DEU DE PORT 305 LOCAL 11 BARCELONA, 08...</td>\n      <td>0.0</td>\n      <td>0</td>\n      <td>22</td>\n    </tr>\n    <tr>\n      <th>888</th>\n      <td>Pau Claris 190</td>\n      <td>MEDITERRÁNEO</td>\n      <td>Pau Claris 190, 08037, Barcelona</td>\n      <td>9.5</td>\n      <td>854</td>\n      <td>40</td>\n    </tr>\n    <tr>\n      <th>1106</th>\n      <td>Banna</td>\n      <td>TAILANDÉS</td>\n      <td>Plaça Revolucio de Setembre 1868, 15, 08012, B...</td>\n      <td>9.2</td>\n      <td>523</td>\n      <td>20</td>\n    </tr>\n    <tr>\n      <th>2186</th>\n      <td>Mezzé</td>\n      <td>AMERICANO</td>\n      <td>Plaça del rom cremat 08027 Barcelona, 08027, B...</td>\n      <td>0.0</td>\n      <td>0</td>\n      <td>10</td>\n    </tr>\n    <tr>\n      <th>1540</th>\n      <td>WAGOKORO</td>\n      <td>JAPONÉS</td>\n      <td>Regas 35 8006, 08006, Barcelona</td>\n      <td>0.0</td>\n      <td>0</td>\n      <td>17</td>\n    </tr>\n    <tr>\n      <th>1944</th>\n      <td>Igueldo</td>\n      <td>ASADOR</td>\n      <td>Rosello 186, 08008, Barcelona</td>\n      <td>0.0</td>\n      <td>0</td>\n      <td>40</td>\n    </tr>\n    <tr>\n      <th>1536</th>\n      <td>Neri - Hotel Neri</td>\n      <td>ESPAÑOL</td>\n      <td>Sant Sever 5 08002, 08002, Barcelona</td>\n      <td>0.0</td>\n      <td>0</td>\n      <td>30</td>\n    </tr>\n    <tr>\n      <th>2001</th>\n      <td>La Bodegueta de les Corts</td>\n      <td>ESPAÑOL</td>\n      <td>Travessera de les Corts 154, 08028, Barcelona</td>\n      <td>0.0</td>\n      <td>0</td>\n      <td>20</td>\n    </tr>\n  </tbody>\n</table>\n</div>"
     },
     "metadata": {},
     "execution_count": 39
    }
   ],
   "source": [
    "df4[df4['direccion'].str.contains(\"\\w [0-9]{3}\", regex=True)].sort_values('direccion')"
   ]
  },
  {
   "cell_type": "code",
   "execution_count": 40,
   "metadata": {},
   "outputs": [],
   "source": [
    "# Clean column direccion\n",
    "\n",
    "df4['direccion']=df4['direccion'].apply(lambda x: x.upper())\n",
    "df4['direccion']=df4['direccion'].apply(lambda x: ','.join(x.split(',')[0:2]))\n",
    "df4['direccion']=df4['direccion'].apply(lambda x: x.split(' (')[0])\n",
    "df4['direccion']=df4['direccion'].apply(lambda x: x.split('-')[0])"
   ]
  },
  {
   "cell_type": "code",
   "execution_count": 41,
   "metadata": {},
   "outputs": [],
   "source": [
    "df4['direccion'] = df4['direccion'].replace('À|Á', 'A', regex=True)\n",
    "df4['direccion'] = df4['direccion'].replace('É|È', 'E', regex=True)\n",
    "df4['direccion'] = df4['direccion'].replace('Í|Ì', 'I', regex=True)\n",
    "df4['direccion'] = df4['direccion'].replace('Ò|Ó', 'O', regex=True)\n",
    "df4['direccion'] = df4['direccion'].replace('Ú|Ù', 'U', regex=True)\n",
    "df4['direccion'] = df4['direccion'].replace(\"D´\", \"\", regex=True)\n",
    "df4['direccion'] = df4['direccion'].replace(\"L´\", \"\", regex=True)\n",
    "df4['direccion'] = df4['direccion'].replace(\"D'\", \"\", regex=True)\n",
    "df4['direccion'] = df4['direccion'].replace(\"L'\", \"\", regex=True)\n",
    "df4['direccion'] = df4['direccion'].replace(\"DR\\.\", \"DOCTOR\", regex=True)\n",
    "df4['direccion'] = df4['direccion'].replace(\"GALILEO\", \"GALILEU\", regex=True)\n",
    "df4['direccion'] = df4['direccion'].replace('^CALLE', 'CARRER', regex=True)\n",
    "df4['direccion'] = df4['direccion'].replace('^CARRER DELS ', 'C. ', regex=True)\n",
    "df4['direccion'] = df4['direccion'].replace('^CARRER DE LES ', 'C. ', regex=True)\n",
    "df4['direccion'] = df4['direccion'].replace('^CARRER DE LA ', 'C. ', regex=True)\n",
    "df4['direccion'] = df4['direccion'].replace('^CARRER DEL ', 'C. ', regex=True)\n",
    "df4['direccion'] = df4['direccion'].replace('^CARRER DE ', 'C. ', regex=True)\n",
    "df4['direccion'] = df4['direccion'].replace('^CARRER ', 'C. ', regex=True)\n",
    "df4['direccion'] = df4['direccion'].replace('^C/', 'C.', regex=True)\n",
    "df4['direccion'] = df4['direccion'].replace('^AVENIDA|^AVENIDA\\.', 'AVINGUDA', regex=True)\n",
    "df4['direccion'] = df4['direccion'].replace('^AVINGUDA DE LA ', 'AV. ', regex=True)\n",
    "df4['direccion'] = df4['direccion'].replace('^AVINGUDA DE LES ', 'AV. ', regex=True)\n",
    "df4['direccion'] = df4['direccion'].replace('^AVINGUDA DELS ', 'AV. ', regex=True)\n",
    "df4['direccion'] = df4['direccion'].replace('^AVINGUDA DEL ', 'AV. ', regex=True)\n",
    "df4['direccion'] = df4['direccion'].replace('^AVINGUDA DE ', 'AV. ', regex=True)\n",
    "df4['direccion'] = df4['direccion'].replace('^AVINGUDA ', 'AV. ', regex=True)\n",
    "df4['direccion'] = df4['direccion'].replace('^AVINGUDA\\. ', 'AV. ', regex=True)\n",
    "df4['direccion'] = df4['direccion'].replace('^AV. DEL', 'AV.', regex=True)\n",
    "df4['direccion'] = df4['direccion'].replace('^AV. DE LES', 'AV.', regex=True)\n",
    "df4['direccion'] = df4['direccion'].replace('^AV. DE', 'AV.', regex=True)\n",
    "df4['direccion'] = df4['direccion'].replace('^AVD. DE', 'AV.', regex=True)\n",
    "df4['direccion'] = df4['direccion'].replace('^VIA ', 'VIA. ', regex=True)\n",
    "df4['direccion'] = df4['direccion'].replace('^PASEO ', 'PASSEIG ', regex=True)\n",
    "df4['direccion'] = df4['direccion'].replace('^PG. DE ', 'PG. ', regex=True)\n",
    "df4['direccion'] = df4['direccion'].replace(\"^PASSEIG DELS \", 'PG. ', regex=True)\n",
    "df4['direccion'] = df4['direccion'].replace(\"^PASSEIG DE LES \", 'PG. ', regex=True)\n",
    "df4['direccion'] = df4['direccion'].replace(\"^PASSEIG DEL \", 'PG. ', regex=True)\n",
    "df4['direccion'] = df4['direccion'].replace(\"^PASSEIG DE LA \", 'PG. ', regex=True)\n",
    "df4['direccion'] = df4['direccion'].replace(\"^PASSEIG DE |^C. PASSEIG DE \", 'PG. ', regex=True)\n",
    "df4['direccion'] = df4['direccion'].replace(\"^PASSEIG DON \", 'PG. ', regex=True)\n",
    "df4['direccion'] = df4['direccion'].replace(\"^PASSEIG \", 'PG. ', regex=True)\n",
    "df4['direccion'] = df4['direccion'].replace(\"^PLACETA DE\", 'PTA.', regex=True)\n",
    "df4['direccion'] = df4['direccion'].replace('^C.PLAZA|PLAZA', 'PLAÇA', regex=True)\n",
    "df4['direccion'] = df4['direccion'].replace(\"^PLAÇA DE LES\", 'PLA.', regex=True)\n",
    "df4['direccion'] = df4['direccion'].replace(\"^PLAÇA DE LA\", 'PLA.', regex=True)\n",
    "df4['direccion'] = df4['direccion'].replace(\"^PLAÇA DELS\", 'PLA.', regex=True)\n",
    "df4['direccion'] = df4['direccion'].replace(\"^PLAÇA DEL\", 'PLA.', regex=True)\n",
    "df4['direccion'] = df4['direccion'].replace(\"^PLAÇA DE\", 'PLA.', regex=True)\n",
    "df4['direccion'] = df4['direccion'].replace(\"^PLAÇA\", 'PLA.', regex=True)\n",
    "df4['direccion'] = df4['direccion'].replace(\"MARITIMO\", 'MARITIM', regex=True)\n",
    "df4['direccion'] = df4['direccion'].replace(\"^PG. MARITIM,|^PG. MARITIM BARCELONETA,|PORXOS DEL PASSEIG MARITIM DE LA BARCELONETA,\", 'PG. MARITIM DE LA BARCELONETA,', regex=True)\n",
    "df4['direccion'] = df4['direccion'].replace(\"PG. MARITIM DE LA BARCELONETA,\", 'PG. MARITIM DE LA BARCELONETA, 55', regex=True)\n",
    "df4['direccion'] = df4['direccion'].replace(\"C. PLAYA NOVA DE MAR BELLA\", 'PG. MARITIM DE LA MAR BELLA', regex=True)\n",
    "df4['direccion'] = df4['direccion'].replace(\"JUAN DE BORBON\", 'JOAN BORBO', regex=True)\n",
    "df4['direccion'] = df4['direccion'].replace(\"^PG. JOAN DE BORBO,|^PG. JOAN BORBO,\", 'PG. JOAN BORBO COMTE BARCELONA,', regex=True)\n",
    "df4['direccion'] = df4['direccion'].replace('^GRAN VIA DE LES', 'G.V..', regex=True)\n",
    "df4['direccion'] = df4['direccion'].replace('^GRAN VIA CORTS CATALANES,', 'G.V.. CORTS CATALANES,', regex=True)\n",
    "df4['direccion'] = df4['direccion'].replace('^GRAN VIA DE LAS CORTES CATALANES,', 'G.V.. CORTS CATALANES,', regex=True)\n",
    "df4['direccion'] = df4['direccion'].replace('^GRAN VIA,', 'G.V.. CORTS CATALANES,', regex=True)\n",
    "df4['direccion'] = df4['direccion'].replace('^GRAN VIA DE ', 'G.V.. ', regex=True)\n",
    "df4['direccion'] = df4['direccion'].replace('^C. GRAN VIA DE LES CORTS CATALANES', 'G.V.. CORTS CATALANES', regex=True)\n",
    "df4['direccion'] = df4['direccion'].replace('^C. GRAN VIA DE LES CORTS', 'G.V.. CORTS CATALANES', regex=True)\n",
    "df4['direccion'] = df4['direccion'].replace('^GRAN VIA CARLES', 'G.V.. CARLES', regex=True)\n",
    "df4['direccion'] = df4['direccion'].replace('CATALUÑA', 'CATALUNYA', regex=True)\n",
    "df4['direccion'] = df4['direccion'].replace('POBLE NOU', 'POBLENOU', regex=True)\n",
    "df4['direccion'] = df4['direccion'].replace('^C. RAMBLA POBLENOU|RAMBLA DEL POBLENOU|RAMBLA DE POBLENOU', 'RBLA. POBLENOU', regex=True)\n",
    "df4['direccion'] = df4['direccion'].replace('^LA RAMBLA|^LAS RAMBLAS', 'C. RAMBLA', regex=True)\n",
    "df4['direccion'] = df4['direccion'].replace('^C. RAMBLA CATALUNYA|^RAMBLA CATALUNYA|^RAMBLA DE CATALUNYA', 'RBLA. CATALUNYA', regex=True)\n",
    "df4['direccion'] = df4['direccion'].replace('^RAMBLA DE FABRA I PUIG', 'RBLA. FABRA I PUIG', regex=True)\n",
    "df4['direccion'] = df4['direccion'].replace('^RAMBLA DEL RAVAL', 'RBLA. RAVAL', regex=True)\n",
    "df4['direccion'] = df4['direccion'].replace('^RAMBLA DELS CAPUTXINS', 'RBLA. CAPUTXINS', regex=True)\n",
    "df4['direccion'] = df4['direccion'].replace('^TRAVESSERA DE LES', 'TRAV.', regex=True)\n",
    "df4['direccion'] = df4['direccion'].replace('^TRAVESERA DE|TRAVESSERA DE', 'TRAV.', regex=True)\n",
    "df4['direccion'] = df4['direccion'].replace('^C. PLA DE PALAU|PLA DE PALAU|PLAÇA DE PALAU', 'PLA. PALAU', regex=True)\n",
    "df4['direccion'] = df4['direccion'].replace('C. MIRADOR DEL PALAU NACIONAL, 08038', 'C. MIRADOR PALAU NACIONAL, 6', regex=True)\n",
    "df4['direccion'] = df4['direccion'].replace('^MOLL DEL', 'MOLL', regex=True)\n",
    "df4['direccion'] = df4['direccion'].replace('^MOLL DE', 'MOLL', regex=True)\n",
    "df4['direccion'] = df4['direccion'].replace('^AV. MOLL|C. MOLL DE', 'MOLL', regex=True)\n",
    "df4['direccion'] = df4['direccion'].replace('^C. MOLL', 'MOLL', regex=True)\n",
    "df4['direccion'] = df4['direccion'].replace('MOLL GREGAL, 11 Y 12', 'MOLL GREGAL, 12', regex=True)\n",
    "df4['direccion'] = df4['direccion'].replace('^RAMON Y CAJAL', 'C. RAMON Y CAJAL', regex=True)\n",
    "df4['direccion'] = df4['direccion'].replace('^CARRETERA DE MIRAMAR', 'AV. MIRAMAR', regex=True)\n",
    "df4['direccion'] = df4['direccion'].replace('VALLVIDRERA AL TIBIDABO', 'VALLVIDRERA TIBIDABO', regex=True)\n",
    "df4['direccion'] = df4['direccion'].replace('^CARRETERA DE LA', 'CTRA', regex=True)\n",
    "df4['direccion'] = df4['direccion'].replace('^CARRETERA DE', 'CTRA', regex=True)\n",
    "df4['direccion'] = df4['direccion'].replace('^CARRETERA|^CTRA\\.', 'CTRA', regex=True)\n",
    "df4['direccion'] = df4['direccion'].replace('^CTRA DE', 'CTRA', regex=True)\n",
    "df4['direccion'] = df4['direccion'].replace('^RIERA', 'C. RIERA', regex=True)\n",
    "df4['direccion'] = df4['direccion'].replace('PARALELO', 'PARAL·LEL', regex=True)\n",
    "df4['direccion'] = df4['direccion'].replace('C. ALLADA', 'C. ALLADA-VERMELL, 10', regex=True)\n",
    "df4['direccion'] = df4['direccion'].replace('C. ASSAONADORS, 31PLAÇA ALLADA/VERMELL 18', 'C. ASSAONADORS, 31', regex=True)\n",
    "df4['direccion'] = df4['direccion'].replace('CASANOVAS', 'CASANOVA', regex=True)\n",
    "df4['direccion'] = df4['direccion'].replace('^CASANOVA', 'C. CASANOVA', regex=True)\n",
    "df4['direccion'] = df4['direccion'].replace(', 080.+', '', regex=True)\n",
    "df4['direccion'] = df4['direccion'].replace(' 080.+', '', regex=True)\n",
    "df4['direccion'] = df4['direccion'].replace(' 80\\d+', '', regex=True)\n",
    "df4['direccion'] = df4['direccion'].replace(',? BAIXOS', '', regex=True)\n",
    "df4['direccion'] = df4['direccion'].replace('Nº 26', '26', regex=True)\n",
    "df4['direccion'] = df4['direccion'].replace(' Nº100', ', 100', regex=True)\n",
    "df4['direccion'] = df4['direccion'].replace(' Nº 220', ', 200', regex=True)\n",
    "df4['direccion'] = df4['direccion'].replace('PELAYO', 'PELAI', regex=True)\n",
    "df4['direccion'] = df4['direccion'].replace(' LOCAL.*', '', regex=True)\n",
    "df4['direccion'] = df4['direccion'].replace(' LOCAL.*', '', regex=True)\n",
    "df4['direccion'] = df4['direccion'].replace('\\s$', '', regex=True)\n",
    "df4['direccion'] = df4['direccion'].replace('BELLOC', 'BELL-LLOC', regex=True)\n",
    "df4['direccion'] = df4['direccion'].replace('PASAJE DE LA CONCEPCION', 'PTGE. CONCEPCIO', regex=True)\n",
    "df4['direccion'] = df4['direccion'].replace('PASAJE', 'PTGE.', regex=True)\n",
    "df4['direccion'] = df4['direccion'].replace(\"^PASSATGE DE LA\", 'PTGE.', regex=True)\n",
    "df4['direccion'] = df4['direccion'].replace(\"^PASSATGE DELS\", 'PTGE.', regex=True)\n",
    "df4['direccion'] = df4['direccion'].replace(\"^PASSATGE DE\", 'PTGE.', regex=True)\n",
    "df4['direccion'] = df4['direccion'].replace(\"^PASSATGE\", 'PTGE.', regex=True)\n",
    "df4['direccion'] = df4['direccion'].replace('C\\.PTGE\\.', 'PTGE.', regex=True)\n",
    "df4['direccion'] = df4['direccion'].replace('CONSEJO DE CIENTO', 'C. CONSELL DE CENT', regex=True)\n",
    "df4['direccion'] = df4['direccion'].replace('CORCEGA', 'CORSEGA', regex=True)\n",
    "df4['direccion'] = df4['direccion'].replace('ENRIQUE GRANADOS', 'ENRIC GRANADOS', regex=True)\n",
    "df4['direccion'] = df4['direccion'].replace('LERIDA', 'LLEIDA', regex=True)\n",
    "df4['direccion'] = df4['direccion'].replace('NAPOLES', 'NAPOLS', regex=True)\n",
    "df4['direccion'] = df4['direccion'].replace('C. SANTA FE DE NUEVO MEXICO, S/N', 'C. SANTA FE DE NOU MEXIC, 8', regex=True)\n",
    "df4['direccion'] = df4['direccion'].replace('CAMI VELL SARRIA', 'CAMI VELL DE SARRIA', regex=True)\n",
    "df4['direccion'] = df4['direccion'].replace('C.MAJOR DE SARRIA', 'C. MAJOR DE SARRIA', regex=True)\n",
    "df4['direccion'] = df4['direccion'].replace('C. LOS CASTILLEJOS', 'C. CASTILLEJOS', regex=True)\n",
    "df4['direccion'] = df4['direccion'].replace('MARQUES DEL CAMPO SAGRADO', 'MARQUES DE CAMPO SAGRADO', regex=True)\n",
    "df4['direccion'] = df4['direccion'].replace('PG. MARITIM DE LA MAR BELLA, S/N', 'PG. MARITIM DE LA MAR BELLA, 100', regex=True)\n",
    "df4['direccion'] = df4['direccion'].replace('^DOCTOR TRUETA', 'C. DOCTOR TRUETA', regex=True)\n",
    "df4['direccion'] = df4['direccion'].replace('^PAU CLARIS', 'C. PAU CLARIS', regex=True)\n",
    "df4['direccion'] = df4['direccion'].replace('^ROSELLO', 'C. ROSELLO', regex=True)\n",
    "df4['direccion'] = df4['direccion'].replace('^MARE DE DEU DE PORT', 'C. MARE DE DEU DE PORT', regex=True)\n",
    "df4['direccion'] = df4['direccion'].replace('^C. JOSEP TARRADELLAS', 'AV. JOSEP TARRADELLAS', regex=True)\n",
    "df4['direccion'] = df4['direccion'].replace('^C. DE SANCHO', 'C. SANCHO', regex=True)\n",
    "df4['direccion'] = df4['direccion'].replace('^C. ARAGON', 'C. ARAGO', regex=True)\n",
    "df4['direccion'] = df4['direccion'].replace('^C. DE BAILEN', 'C. BAILEN', regex=True)\n",
    "df4['direccion'] = df4['direccion'].replace('CTRA', 'CTRA.', regex=True)\n",
    "\n",
    "df4['nombre'] = df4['nombre'].replace('Crêperie', 'Creperie', regex=True)\n",
    "df4['nombre'] = df4['nombre'].replace('Bērytī', 'Beryti', regex=True) \n",
    "df4['nombre'] = df4['nombre'].replace('’', \"'\", regex=True)\n",
    "df4['nombre'] = df4['nombre'].replace('ệ', \"e\", regex=True)\n",
    "df4.loc[df4[df4['nombre']=='Montesquiu'].index, 'precio'] = '30'\n",
    "df4.loc[df4[df4['nombre']=='Gola Taperia'].index, 'precio'] = '30'\n",
    "df4.loc[df4[df4['nombre']=='La Font de Prades'].index, 'precio'] = '30'\n",
    "df4.loc[df4[df4['nombre']=='Tablao de Carmen'].index, 'precio'] = '30'"
   ]
  },
  {
   "cell_type": "code",
   "execution_count": 42,
   "metadata": {},
   "outputs": [],
   "source": [
    "df4['cocina'] = df4['cocina'].replace('À|Á', 'A', regex=True)\n",
    "df4['cocina'] = df4['cocina'].replace('É|È', 'E', regex=True)\n",
    "df4['cocina'] = df4['cocina'].replace('Í|Ì', 'I', regex=True)\n",
    "df4['cocina'] = df4['cocina'].replace('Ò|Ó', 'O', regex=True)\n",
    "df4['cocina'] = df4['cocina'].replace('Ú|Ù', 'U', regex=True)\n",
    "df4['cocina'] = df4['cocina'].replace('€|Welcome|YUMS|Yums', 'Sin información', regex=True)"
   ]
  },
  {
   "cell_type": "code",
   "execution_count": 43,
   "metadata": {},
   "outputs": [],
   "source": [
    "# Sort columns\n",
    "\n",
    "df4 = df4.sort_values('direccion')\n",
    "df4.columns = [i.upper() for i in df4.columns]\n",
    "df4.reset_index(drop=True, inplace=True)"
   ]
  },
  {
   "cell_type": "code",
   "execution_count": 44,
   "metadata": {},
   "outputs": [],
   "source": [
    "df4.to_sql(name = 'Fork', con =conn)"
   ]
  },
  {
   "source": [
    "# SQL Queries"
   ],
   "cell_type": "markdown",
   "metadata": {}
  },
  {
   "cell_type": "code",
   "execution_count": 45,
   "metadata": {},
   "outputs": [],
   "source": [
    "sql_1 = '''\n",
    "select r.NAME, r.EMPLACEMENT, r.ADDRESSES_NEIGHBORHOOD_NAME, r.ADDRESSES_DISTRICT_NAME, r.GEO_EPGS_4326_X, r.GEO_EPGS_4326_Y, t.SUPERFICIE_OCUPADA, a.SITUATION, f.RATING, f.NUM_OPINIONES,\n",
    "f.PRECIO, f.COCINA\n",
    "from Restaurants r LEFT join Terrasses t on r.EMPLACEMENT = t.EMPLACAMENT LEFT join Activity a on r.EMPLACEMENT = a.EMPLACEMENT\n",
    "LEFT join Fork f on r.EMPLACEMENT = f.direccion\n",
    "group by r.NAME, r.EMPLACEMENT, r.ADDRESSES_NEIGHBORHOOD_NAME, r.ADDRESSES_DISTRICT_NAME, r.GEO_EPGS_4326_X, r.GEO_EPGS_4326_Y\n",
    "'''"
   ]
  },
  {
   "cell_type": "code",
   "execution_count": 46,
   "metadata": {},
   "outputs": [],
   "source": [
    "df5 = pd.read_sql(sql_1, conn)"
   ]
  },
  {
   "cell_type": "code",
   "execution_count": 47,
   "metadata": {},
   "outputs": [],
   "source": [
    "df5['SUPERFICIE_OCUPADA'].fillna(0, inplace=True)\n",
    "df5['TERRASSE'] = df5['SUPERFICIE_OCUPADA'].apply(lambda x: 'Si' if x != 0 else 'No')"
   ]
  },
  {
   "cell_type": "code",
   "execution_count": 48,
   "metadata": {},
   "outputs": [],
   "source": [
    "df5['SITUATION'].fillna('Sin información', inplace=True)"
   ]
  },
  {
   "cell_type": "code",
   "execution_count": 49,
   "metadata": {},
   "outputs": [],
   "source": [
    "df5.to_csv('database_restaurants_clean2.csv', encoding = 'latin-1')"
   ]
  },
  {
   "cell_type": "code",
   "execution_count": 50,
   "metadata": {},
   "outputs": [],
   "source": [
    "sql_2 = '''\n",
    "SELECT f.NOMBRE, f.DIRECCION, t.EMPLACAMENT, r.EMPLACEMENT, t.NOM_BARRI, r.ADDRESSES_NEIGHBORHOOD_NAME, r.GEO_EPGS_4326_X as LATITUD1, r.GEO_EPGS_4326_Y as LONGITUD1,\n",
    "t.LATITUD as LATITUD2, t.LONGITUD as LONGITUD2,\n",
    "t.SUPERFICIE_OCUPADA, a.SITUATION as SITUACION, f.RATING, f.NUM_OPINIONES, f.PRECIO, f.COCINA\n",
    "from Fork f LEFT join Terrasses t on f.DIRECCION = t.EMPLACAMENT LEFT join Activity a on f.DIRECCION = a.EMPLACEMENT\n",
    "LEFT join Restaurants r on f.DIRECCION = r.EMPLACEMENT\n",
    "GROUP BY f.NOMBRE, f.DIRECCION, t.EMPLACAMENT, r.EMPLACEMENT \n",
    "'''"
   ]
  },
  {
   "cell_type": "code",
   "execution_count": 51,
   "metadata": {},
   "outputs": [],
   "source": [
    "df6 = pd.read_sql(sql_2, conn)"
   ]
  },
  {
   "cell_type": "code",
   "execution_count": 52,
   "metadata": {},
   "outputs": [],
   "source": [
    "df6.fillna('None', inplace=True)"
   ]
  },
  {
   "cell_type": "code",
   "execution_count": 53,
   "metadata": {},
   "outputs": [],
   "source": [
    "lst4 = []\n",
    "for i in df6.iterrows():\n",
    "    if i[1][7] == 'None':\n",
    "        lst4.append(i[1][9])\n",
    "    else:\n",
    "        lst4.append(i[1][7])"
   ]
  },
  {
   "cell_type": "code",
   "execution_count": 54,
   "metadata": {},
   "outputs": [],
   "source": [
    "df6['LONGITUD'] = lst4"
   ]
  },
  {
   "cell_type": "code",
   "execution_count": 55,
   "metadata": {},
   "outputs": [],
   "source": [
    "lst3 = []\n",
    "for i in df6.iterrows():\n",
    "    if i[1][6] == 'None':\n",
    "        lst3.append(i[1][8])\n",
    "    else:\n",
    "        lst3.append(i[1][6])"
   ]
  },
  {
   "cell_type": "code",
   "execution_count": 56,
   "metadata": {},
   "outputs": [],
   "source": [
    "df6['LATITUD'] = lst3"
   ]
  },
  {
   "cell_type": "code",
   "execution_count": 57,
   "metadata": {},
   "outputs": [],
   "source": [
    "lst2 = []\n",
    "for i in df6.iterrows():\n",
    "    if i[1][4] == 'None':\n",
    "        lst2.append(i[1][5])\n",
    "    else:\n",
    "        lst2.append(i[1][4])"
   ]
  },
  {
   "cell_type": "code",
   "execution_count": 58,
   "metadata": {},
   "outputs": [],
   "source": [
    "df6['BARRIO'] = lst2"
   ]
  },
  {
   "cell_type": "code",
   "execution_count": 59,
   "metadata": {},
   "outputs": [],
   "source": [
    "df6['TERRAZA'] = df6['SUPERFICIE_OCUPADA'].apply(lambda x: 'Si' if x != 'None' else 'No')"
   ]
  },
  {
   "cell_type": "code",
   "execution_count": 60,
   "metadata": {},
   "outputs": [],
   "source": [
    "df6.drop(columns=['EMPLACAMENT', 'EMPLACEMENT', 'NOM_BARRI', 'ADDRESSES_NEIGHBORHOOD_NAME','LATITUD1', 'LONGITUD1', 'LATITUD2','LONGITUD2' ], inplace=True)"
   ]
  },
  {
   "cell_type": "code",
   "execution_count": 61,
   "metadata": {},
   "outputs": [],
   "source": [
    "# Sort columns\n",
    "\n",
    "df6 = df6.reindex(columns=['NOMBRE', 'DIRECCION','BARRIO', 'COCINA', 'SITUACION', 'TERRAZA', 'SUPERFICIE_OCUPADA', 'RATING','NUM_OPINIONES', 'PRECIO', 'LONGITUD', 'LATITUD'])"
   ]
  },
  {
   "cell_type": "code",
   "execution_count": 62,
   "metadata": {
    "tags": []
   },
   "outputs": [],
   "source": [
    "for i in df6.iterrows():\n",
    "    if i[1][10] == 'None':\n",
    "        df6.drop(i[0], inplace=True)\n",
    "\n",
    "df6.reset_index(inplace=True, drop=True)"
   ]
  },
  {
   "cell_type": "code",
   "execution_count": 63,
   "metadata": {},
   "outputs": [],
   "source": [
    "df6['NOMBRE'] = df6['NOMBRE'].replace('Bērytī', 'Bertyti', regex=True)\n",
    "df6['NOMBRE'] = df6['NOMBRE'].replace('’', \"'\", regex=True)\n",
    "df6['NOMBRE'] = df6['NOMBRE'].replace('ệ', \"e\", regex=True)"
   ]
  },
  {
   "cell_type": "code",
   "execution_count": 64,
   "metadata": {},
   "outputs": [],
   "source": [
    "df6.loc[1267] = ['Terraza Ironhack', 'C. PAMPLONA, 96', 'el Parc i la Llacuna del Poblenou', 'BBQ', 'Abierto', 'Si', 20.0, 0.0, 0, 0, 2.19071, 41.39820]"
   ]
  },
  {
   "cell_type": "code",
   "execution_count": 65,
   "metadata": {},
   "outputs": [],
   "source": [
    "df6.to_csv('database_restaurants_clean.csv', encoding='latin-1')"
   ]
  },
  {
   "cell_type": "code",
   "execution_count": 66,
   "metadata": {},
   "outputs": [],
   "source": [
    "# Close connector\n",
    "conn.close()"
   ]
  },
  {
   "cell_type": "code",
   "execution_count": null,
   "metadata": {},
   "outputs": [],
   "source": []
  }
 ]
}